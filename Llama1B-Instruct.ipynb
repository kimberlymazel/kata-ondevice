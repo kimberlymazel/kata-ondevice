{
 "cells": [
  {
   "cell_type": "code",
   "execution_count": null,
   "metadata": {},
   "outputs": [],
   "source": [
    "import speech_recognition as srec\n",
    "from gtts import gTTS\n",
    "import pyttsx3 as pyt\n",
    "import os\n",
    "\n",
    "from transformers import AutoTokenizer, AutoModelForCausalLM, pipeline, VitsModel\n",
    "import torch\n",
    "\n",
    "import time\n",
    "import psutil\n",
    "\n",
    "import whisper\n",
    "import sounddevice as sd\n",
    "import numpy as np\n",
    "from IPython.display import Audio"
   ]
  },
  {
   "cell_type": "code",
   "execution_count": null,
   "metadata": {},
   "outputs": [],
   "source": [
    "engine = pyt.init()\n",
    "voices = engine.getProperty('voices')\n",
    "engine.setProperty('voice', voices[1].id)\n",
    "\n",
    "device = \"auto\""
   ]
  },
  {
   "cell_type": "code",
   "execution_count": null,
   "metadata": {},
   "outputs": [
    {
     "data": {
      "application/vnd.jupyter.widget-view+json": {
       "model_id": "ea2ca53a9f5c436bbbe89b1dab8e83f4",
       "version_major": 2,
       "version_minor": 0
      },
      "text/plain": [
       "model.safetensors:   9%|9         | 231M/2.47G [00:00<?, ?B/s]"
      ]
     },
     "metadata": {},
     "output_type": "display_data"
    },
    {
     "name": "stderr",
     "output_type": "stream",
     "text": [
      "Error while downloading from https://cdn-lfs-us-1.hf.co/repos/e5/d3/e5d337e70acc0b9d76a5b9451ac64aa1925644163a37329ad013ca2dd94806a2/1ff795ff6a07e6a68085d206fb84417da2f083f68391c2843cd2b8ac6df8538f?response-content-disposition=inline%3B+filename*%3DUTF-8%27%27model.safetensors%3B+filename%3D%22model.safetensors%22%3B&Expires=1730623481&Policy=eyJTdGF0ZW1lbnQiOlt7IkNvbmRpdGlvbiI6eyJEYXRlTGVzc1RoYW4iOnsiQVdTOkVwb2NoVGltZSI6MTczMDYyMzQ4MX19LCJSZXNvdXJjZSI6Imh0dHBzOi8vY2RuLWxmcy11cy0xLmhmLmNvL3JlcG9zL2U1L2QzL2U1ZDMzN2U3MGFjYzBiOWQ3NmE1Yjk0NTFhYzY0YWExOTI1NjQ0MTYzYTM3MzI5YWQwMTNjYTJkZDk0ODA2YTIvMWZmNzk1ZmY2YTA3ZTZhNjgwODVkMjA2ZmI4NDQxN2RhMmYwODNmNjgzOTFjMjg0M2NkMmI4YWM2ZGY4NTM4Zj9yZXNwb25zZS1jb250ZW50LWRpc3Bvc2l0aW9uPSoifV19&Signature=BbwifjGP1vxHlBWpaYaJ89JScvF-xTHYRynCBrAxbhGBVLcNdFJj5Oirbw47QiBkDyt9dl%7EE7i%7EeZorVnzv1YhwxVjxnnNBkMOJH8qy6tAOyzHmm4rF2eKmc%7EO-QqE4rMx%7E6P0jrfG02QhtLEy1DuoB-AtIjizTm-ejcpXba0j38Z6ZX5m%7Ex1Kg-GmJGjlQZ7wN9HqpepQbDXHo1xhdfvVXBAI8PNqoUkc6kmeHDg6lo1NKvX0P6Sq3uU2r6Z%7EynvoKXePRCvubKrqoG-ATi-wJ7LLI%7EULSG3dayE2dtzQUdCM9jTUUc6BTIT32VdkR3P1KyhCuULI9mEOn4IHgPLw__&Key-Pair-Id=K24J24Z295AEI9: HTTPSConnectionPool(host='cdn-lfs-us-1.hf.co', port=443): Read timed out.\n",
      "Trying to resume download...\n"
     ]
    },
    {
     "data": {
      "application/vnd.jupyter.widget-view+json": {
       "model_id": "f8908f9cfe594b67843df363d4a0cc0b",
       "version_major": 2,
       "version_minor": 0
      },
      "text/plain": [
       "model.safetensors:  10%|9         | 241M/2.47G [00:00<?, ?B/s]"
      ]
     },
     "metadata": {},
     "output_type": "display_data"
    },
    {
     "name": "stderr",
     "output_type": "stream",
     "text": [
      "Error while downloading from https://cdn-lfs-us-1.hf.co/repos/e5/d3/e5d337e70acc0b9d76a5b9451ac64aa1925644163a37329ad013ca2dd94806a2/1ff795ff6a07e6a68085d206fb84417da2f083f68391c2843cd2b8ac6df8538f?response-content-disposition=inline%3B+filename*%3DUTF-8%27%27model.safetensors%3B+filename%3D%22model.safetensors%22%3B&Expires=1730623481&Policy=eyJTdGF0ZW1lbnQiOlt7IkNvbmRpdGlvbiI6eyJEYXRlTGVzc1RoYW4iOnsiQVdTOkVwb2NoVGltZSI6MTczMDYyMzQ4MX19LCJSZXNvdXJjZSI6Imh0dHBzOi8vY2RuLWxmcy11cy0xLmhmLmNvL3JlcG9zL2U1L2QzL2U1ZDMzN2U3MGFjYzBiOWQ3NmE1Yjk0NTFhYzY0YWExOTI1NjQ0MTYzYTM3MzI5YWQwMTNjYTJkZDk0ODA2YTIvMWZmNzk1ZmY2YTA3ZTZhNjgwODVkMjA2ZmI4NDQxN2RhMmYwODNmNjgzOTFjMjg0M2NkMmI4YWM2ZGY4NTM4Zj9yZXNwb25zZS1jb250ZW50LWRpc3Bvc2l0aW9uPSoifV19&Signature=BbwifjGP1vxHlBWpaYaJ89JScvF-xTHYRynCBrAxbhGBVLcNdFJj5Oirbw47QiBkDyt9dl%7EE7i%7EeZorVnzv1YhwxVjxnnNBkMOJH8qy6tAOyzHmm4rF2eKmc%7EO-QqE4rMx%7E6P0jrfG02QhtLEy1DuoB-AtIjizTm-ejcpXba0j38Z6ZX5m%7Ex1Kg-GmJGjlQZ7wN9HqpepQbDXHo1xhdfvVXBAI8PNqoUkc6kmeHDg6lo1NKvX0P6Sq3uU2r6Z%7EynvoKXePRCvubKrqoG-ATi-wJ7LLI%7EULSG3dayE2dtzQUdCM9jTUUc6BTIT32VdkR3P1KyhCuULI9mEOn4IHgPLw__&Key-Pair-Id=K24J24Z295AEI9: HTTPSConnectionPool(host='cdn-lfs-us-1.hf.co', port=443): Read timed out.\n",
      "Trying to resume download...\n"
     ]
    },
    {
     "data": {
      "application/vnd.jupyter.widget-view+json": {
       "model_id": "88889da2c83d499885d5f60efab066aa",
       "version_major": 2,
       "version_minor": 0
      },
      "text/plain": [
       "model.safetensors:  10%|#         | 252M/2.47G [00:00<?, ?B/s]"
      ]
     },
     "metadata": {},
     "output_type": "display_data"
    }
   ],
   "source": [
    "# --- LLAMA ---\n",
    "\n",
    "tokenizer = AutoTokenizer.from_pretrained(\"meta-llama/Llama-3.2-1B-Instruct\")\n",
    "model = AutoModelForCausalLM.from_pretrained(\"meta-llama/Llama-3.2-1B-Instruct\", torch_dtype=torch.bfloat16, \n",
    "  device_map='cpu')"
   ]
  },
  {
   "cell_type": "code",
   "execution_count": null,
   "metadata": {},
   "outputs": [],
   "source": [
    "# --- STT ---\n",
    "\n",
    "# def perintah():\n",
    "#     mendengar = srec.Recognizer()\n",
    "#     with srec.Microphone() as source:\n",
    "#         print('Mendengarkan......')\n",
    "#         suara = mendengar.listen(source, phrase_time_limit=5)\n",
    "#         try:\n",
    "#             print('Diterima.....')\n",
    "#             dengar = mendengar.recognize_google(suara, language='id-ID')\n",
    "#             print(dengar)\n",
    "#         except:\n",
    "#             pass\n",
    "#         return dengar\n",
    "\n",
    "whisper_model = whisper.load_model(\"small\")\n",
    "\n",
    "def perintah():\n",
    "    duration = 5\n",
    "    sample_rate = 16000  \n",
    "\n",
    "    print(\"Mendengarkan......\")\n",
    "    audio_data = sd.rec(int(duration * sample_rate), samplerate=sample_rate, channels=1, dtype='float32')\n",
    "    sd.wait()  \n",
    "    print(\"Diterima.....\")\n",
    "\n",
    "    audio_data = np.squeeze(audio_data)  \n",
    "    dengar = whisper_model.transcribe(audio_data, fp16=False, language=\"id\")\n",
    "    print(dengar[\"text\"])\n",
    "\n",
    "    return dengar[\"text\"]"
   ]
  },
  {
   "cell_type": "code",
   "execution_count": null,
   "metadata": {},
   "outputs": [],
   "source": [
    "# --- TTS ---\n",
    "\n",
    "def ngomong(text):\n",
    "    voices = engine.getProperty('voices')\n",
    "\n",
    "    for voice in voices:\n",
    "        if \"MSTTS_V110_idID_Andika\" in voice.id:\n",
    "            engine.setProperty('voice', voice.id)\n",
    "            break\n",
    "\n",
    "    # Speak the text\n",
    "    engine.say(text)\n",
    "    \n",
    "    # Wait until speaking is finished\n",
    "    engine.runAndWait()\n",
    "\n",
    "# mms = VitsModel.from_pretrained(\"facebook/mms-tts-ind\")\n",
    "# mms_token = AutoTokenizer.from_pretrained(\"facebook/mms-tts-ind\")\n",
    "\n",
    "# def ngomong(text):\n",
    "#     inputs = mms_token(text, return_tensors=\"pt\")\n",
    "\n",
    "#     with torch.no_grad():\n",
    "#         output = mms(**inputs).waveform\n",
    "    \n",
    "#     return Audio(output.squeeze().cpu().numpy(), rate=16000) # Can change rate to make it faster/slower"
   ]
  },
  {
   "cell_type": "code",
   "execution_count": null,
   "metadata": {},
   "outputs": [],
   "source": [
    "# --- MAIN FUNCTION ---\n",
    "\n",
    "def run_va():\n",
    "    # prompt from user\n",
    "    Layanan = perintah()\n",
    "\n",
    "    # messages = [{\"role\": \"user\", \"content\": Layanan}]\n",
    "    # prompt = tokenizer.apply_chat_template(messages, tokenize=False, add_generation_prompt=True)\n",
    "\n",
    "    # outputs = pipeline(prompt, max_new_tokens=256, do_sample=True, temperature=0.7, top_k=50, top_p=0.95)\n",
    "    # print(outputs[0][\"generated_text\"])\n",
    "\n",
    "    # ngomong(Layanan)\n",
    "\n",
    "    # print(Layanan)\n",
    "\n",
    "    system_prompt= 'Jawab dalam bahasa indonesia.'\n",
    "\n",
    "    # messages = [\n",
    "    #     {\"role\": \"question\", \"content\": Layanan}\n",
    "    #     ]\n",
    "    messages = [\n",
    "    {\"role\": \"system\", \"content\": \"Tolong jawab singkat.\"},\n",
    "    {\"role\": \"user\", \"content\": Layanan}\n",
    "]\n",
    "\n",
    "    text = tokenizer.apply_chat_template(\n",
    "        messages,\n",
    "        tokenize=False,\n",
    "        add_generation_prompt=True\n",
    "    )\n",
    "\n",
    "    model_inputs = tokenizer([text], return_tensors=\"pt\") \n",
    "\n",
    "    start_time = time.time()\n",
    "    memory_before = psutil.virtual_memory().used\n",
    "\n",
    "    generated_ids = model.generate(\n",
    "        model_inputs.input_ids,\n",
    "        max_new_tokens=512, \n",
    "        temperature=0.7,\n",
    "        top_p=0.9,\n",
    "        do_sample=True\n",
    "\n",
    "    )\n",
    "\n",
    "    generated_ids = [\n",
    "        output_ids[len(input_ids):] for input_ids, output_ids in zip(model_inputs.input_ids, generated_ids)\n",
    "    ]\n",
    "    response = tokenizer.batch_decode(generated_ids, skip_special_tokens=True)[0]\n",
    "\n",
    "    end_time = time.time()\n",
    "    memory_after = psutil.virtual_memory().used\n",
    "\n",
    "    inference_time = end_time - start_time\n",
    "    memory_used = memory_after - memory_before\n",
    "    cpu_usage = psutil.cpu_percent(interval=1)\n",
    "    \n",
    "    print(response)\n",
    "    print(\"INFERENCE TIME: \", inference_time)\n",
    "    print(\"MEMORY USAGE: \", memory_used)\n",
    "    print(\"CPU USAGE: \", cpu_usage)\n",
    "    ngomong(response)"
   ]
  },
  {
   "cell_type": "code",
   "execution_count": null,
   "metadata": {},
   "outputs": [],
   "source": [
    "run_va()"
   ]
  }
 ],
 "metadata": {
  "kernelspec": {
   "display_name": "base",
   "language": "python",
   "name": "python3"
  },
  "language_info": {
   "codemirror_mode": {
    "name": "ipython",
    "version": 3
   },
   "file_extension": ".py",
   "mimetype": "text/x-python",
   "name": "python",
   "nbconvert_exporter": "python",
   "pygments_lexer": "ipython3",
   "version": "3.11.7"
  }
 },
 "nbformat": 4,
 "nbformat_minor": 2
}

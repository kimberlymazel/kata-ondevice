{
 "cells": [
  {
   "cell_type": "code",
   "execution_count": 1,
   "metadata": {},
   "outputs": [
    {
     "name": "stderr",
     "output_type": "stream",
     "text": [
      "c:\\Users\\Alysha\\Documents\\kata-ondevice\\myenv\\lib\\site-packages\\tqdm\\auto.py:21: TqdmWarning: IProgress not found. Please update jupyter and ipywidgets. See https://ipywidgets.readthedocs.io/en/stable/user_install.html\n",
      "  from .autonotebook import tqdm as notebook_tqdm\n"
     ]
    }
   ],
   "source": [
    "import speech_recognition as srec\n",
    "from gtts import gTTS\n",
    "import pyttsx3 as pyt\n",
    "import os\n",
    "\n",
    "from transformers import AutoTokenizer, AutoModelForCausalLM, pipeline, VitsModel\n",
    "import torch\n",
    "\n",
    "import time\n",
    "import psutil\n",
    "\n",
    "import whisper\n",
    "import sounddevice as sd\n",
    "import numpy as np\n",
    "from IPython.display import Audio"
   ]
  },
  {
   "cell_type": "code",
   "execution_count": 4,
   "metadata": {},
   "outputs": [],
   "source": [
    "engine = pyt.init()\n",
    "voices = engine.getProperty('voices')\n",
    "engine.setProperty('voice', voices[1].id)\n",
    "\n",
    "device = \"auto\""
   ]
  },
  {
   "cell_type": "code",
   "execution_count": null,
   "metadata": {},
   "outputs": [],
   "source": [
    "# --- AZURE SAILOR 0.5B MODEL ---\n",
    "start_time = time.time()\n",
    "\n",
    "model = AutoModelForCausalLM.from_pretrained(\n",
    "    'sail/Sailor-0.5B-Chat',\n",
    "    torch_dtype=\"auto\",\n",
    "    device_map=\"auto\"\n",
    ")\n",
    "tokenizer = AutoTokenizer.from_pretrained('sail/Sailor-0.5B-Chat')\n",
    "end_time = time.time()\n",
    "load_time = end_time - start_time\n",
    "print(load_time)\n"
   ]
  },
  {
   "cell_type": "code",
   "execution_count": 2,
   "metadata": {},
   "outputs": [
    {
     "name": "stderr",
     "output_type": "stream",
     "text": [
      "c:\\Users\\Alysha\\Documents\\kata-ondevice\\myenv\\lib\\site-packages\\huggingface_hub\\file_download.py:139: UserWarning: `huggingface_hub` cache-system uses symlinks by default to efficiently store duplicated files but your machine does not support them in C:\\Users\\Alysha\\.cache\\huggingface\\hub\\models--meta-llama--Llama-3.2-1B-Instruct. Caching files will still work but in a degraded version that might require more space on your disk. This warning can be disabled by setting the `HF_HUB_DISABLE_SYMLINKS_WARNING` environment variable. For more details, see https://huggingface.co/docs/huggingface_hub/how-to-cache#limitations.\n",
      "To support symlinks on Windows, you either need to activate Developer Mode or to run Python as an administrator. In order to activate developer mode, see this article: https://docs.microsoft.com/en-us/windows/apps/get-started/enable-your-device-for-development\n",
      "  warnings.warn(message)\n"
     ]
    }
   ],
   "source": [
    "# --- LLAMA ---\n",
    "\n",
    "tokenizer = AutoTokenizer.from_pretrained(\"meta-llama/Llama-3.2-1B-Instruct\")\n",
    "model = AutoModelForCausalLM.from_pretrained(\"meta-llama/Llama-3.2-1B-Instruct\", torch_dtype=torch.bfloat16, \n",
    "  device_map='cpu')"
   ]
  },
  {
   "cell_type": "code",
   "execution_count": 2,
   "metadata": {},
   "outputs": [],
   "source": [
    "# --- SeaLLMs-v3-7B-Chat ---\n",
    "\n",
    "model = AutoModelForCausalLM.from_pretrained(\n",
    " \"SeaLLMs/SeaLLMs-v3-1.5B-Chat\", # can change to \"SeaLLMs/SeaLLMs-v3-1.5B-Chat\" if your resource is limited\n",
    "  torch_dtype=torch.bfloat16, \n",
    "  device_map='cpu'\n",
    ")\n",
    "tokenizer = AutoTokenizer.from_pretrained(\"SeaLLMs/SeaLLMs-v3-1.5B-Chat\")"
   ]
  },
  {
   "cell_type": "code",
   "execution_count": 3,
   "metadata": {},
   "outputs": [
    {
     "name": "stderr",
     "output_type": "stream",
     "text": [
      "c:\\Users\\Alysha\\Documents\\kata-ondevice\\myenv\\lib\\site-packages\\whisper\\__init__.py:150: FutureWarning: You are using `torch.load` with `weights_only=False` (the current default value), which uses the default pickle module implicitly. It is possible to construct malicious pickle data which will execute arbitrary code during unpickling (See https://github.com/pytorch/pytorch/blob/main/SECURITY.md#untrusted-models for more details). In a future release, the default value for `weights_only` will be flipped to `True`. This limits the functions that could be executed during unpickling. Arbitrary objects will no longer be allowed to be loaded via this mode unless they are explicitly allowlisted by the user via `torch.serialization.add_safe_globals`. We recommend you start setting `weights_only=True` for any use case where you don't have full control of the loaded file. Please open an issue on GitHub for any issues related to this experimental feature.\n",
      "  checkpoint = torch.load(fp, map_location=device)\n"
     ]
    }
   ],
   "source": [
    "# --- STT ---\n",
    "\n",
    "# def perintah():\n",
    "#     mendengar = srec.Recognizer()\n",
    "#     with srec.Microphone() as source:\n",
    "#         print('Mendengarkan......')\n",
    "#         suara = mendengar.listen(source, phrase_time_limit=5)\n",
    "#         try:\n",
    "#             print('Diterima.....')\n",
    "#             dengar = mendengar.recognize_google(suara, language='id-ID')\n",
    "#             print(dengar)\n",
    "#         except:\n",
    "#             pass\n",
    "#         return dengar\n",
    "\n",
    "whisper_model = whisper.load_model(\"small\")\n",
    "\n",
    "def perintah():\n",
    "    duration = 5\n",
    "    sample_rate = 16000  \n",
    "\n",
    "    print(\"Mendengarkan......\")\n",
    "    audio_data = sd.rec(int(duration * sample_rate), samplerate=sample_rate, channels=1, dtype='float32')\n",
    "    sd.wait()  \n",
    "    print(\"Diterima.....\")\n",
    "\n",
    "    audio_data = np.squeeze(audio_data)  \n",
    "    dengar = whisper_model.transcribe(audio_data, fp16=False, language=\"id\")\n",
    "    print(dengar[\"text\"])\n",
    "\n",
    "    return dengar[\"text\"]"
   ]
  },
  {
   "cell_type": "code",
   "execution_count": 5,
   "metadata": {},
   "outputs": [],
   "source": [
    "# --- TTS ---\n",
    "\n",
    "def ngomong(text):\n",
    "    voices = engine.getProperty('voices')\n",
    "\n",
    "    for voice in voices:\n",
    "        if \"MSTTS_V110_idID_Andika\" in voice.id:\n",
    "            engine.setProperty('voice', voice.id)\n",
    "            break\n",
    "\n",
    "    # Speak the text\n",
    "    engine.say(text)\n",
    "    \n",
    "    # Wait until speaking is finished\n",
    "    engine.runAndWait()\n",
    "\n",
    "# mms = VitsModel.from_pretrained(\"facebook/mms-tts-ind\")\n",
    "# mms_token = AutoTokenizer.from_pretrained(\"facebook/mms-tts-ind\")\n",
    "\n",
    "# def ngomong(text):\n",
    "#     inputs = mms_token(text, return_tensors=\"pt\")\n",
    "\n",
    "#     with torch.no_grad():\n",
    "#         output = mms(**inputs).waveform\n",
    "    \n",
    "#     return Audio(output.squeeze().cpu().numpy(), rate=16000) # Can change rate to make it faster/slower"
   ]
  },
  {
   "cell_type": "code",
   "execution_count": 6,
   "metadata": {},
   "outputs": [],
   "source": [
    "def run_va():\n",
    "    # prompt from user\n",
    "    Layanan = perintah()\n",
    "\n",
    "    # messages = [{\"role\": \"user\", \"content\": Layanan}]\n",
    "    # prompt = tokenizer.apply_chat_template(messages, tokenize=False, add_generation_prompt=True)\n",
    "\n",
    "    # outputs = pipeline(prompt, max_new_tokens=256, do_sample=True, temperature=0.7, top_k=50, top_p=0.95)\n",
    "    # print(outputs[0][\"generated_text\"])\n",
    "\n",
    "    # ngomong(Layanan)\n",
    "\n",
    "    # print(Layanan)\n",
    "\n",
    "    system_prompt= 'Jawab dalam bahasa indonesia.'\n",
    "\n",
    "    # messages = [\n",
    "    #     {\"role\": \"question\", \"content\": Layanan}\n",
    "    #     ]\n",
    "    messages = [\n",
    "    {\"role\": \"system\", \"content\": \"You are a helpful assistant. \"},\n",
    "    {\"role\": \"user\", \"content\": Layanan}\n",
    "]\n",
    "\n",
    "    text = tokenizer.apply_chat_template(\n",
    "        messages,\n",
    "        tokenize=False,\n",
    "        add_generation_prompt=True\n",
    "    )\n",
    "\n",
    "    model_inputs = tokenizer([text], return_tensors=\"pt\") \n",
    "\n",
    "    start_time = time.time()\n",
    "    memory_before = psutil.virtual_memory().used\n",
    "\n",
    "    generated_ids = model.generate(\n",
    "        model_inputs.input_ids,\n",
    "        max_new_tokens=512, \n",
    "        temperature=0.7,\n",
    "        top_p=0.9,\n",
    "        do_sample=True\n",
    "\n",
    "    )\n",
    "\n",
    "    generated_ids = [\n",
    "        output_ids[len(input_ids):] for input_ids, output_ids in zip(model_inputs.input_ids, generated_ids)\n",
    "    ]\n",
    "    response = tokenizer.batch_decode(generated_ids, skip_special_tokens=True)[0]\n",
    "\n",
    "    end_time = time.time()\n",
    "    memory_after = psutil.virtual_memory().used\n",
    "\n",
    "    inference_time = end_time - start_time\n",
    "    memory_used = memory_after - memory_before\n",
    "    cpu_usage = psutil.cpu_percent(interval=1)\n",
    "    \n",
    "    print(response)\n",
    "    print(\"INFERENCE TIME: \", inference_time)\n",
    "    print(\"MEMORY USAGE: \", memory_used)\n",
    "    print(\"CPU USAGE: \", cpu_usage)\n",
    "    ngomong(response)"
   ]
  },
  {
   "cell_type": "code",
   "execution_count": 13,
   "metadata": {},
   "outputs": [
    {
     "name": "stdout",
     "output_type": "stream",
     "text": [
      "Mendengarkan......\n",
      "Diterima.....\n"
     ]
    },
    {
     "name": "stderr",
     "output_type": "stream",
     "text": [
      "The attention mask and the pad token id were not set. As a consequence, you may observe unexpected behavior. Please pass your input's `attention_mask` to obtain reliable results.\n",
      "Setting `pad_token_id` to `eos_token_id`:None for open-end generation.\n"
     ]
    },
    {
     "name": "stdout",
     "output_type": "stream",
     "text": [
      " Apa ibu kota Indonesia?\n",
      "Jakarta\n",
      "INFERENCE TIME:  42.532082319259644\n",
      "MEMORY USAGE:  718254080\n",
      "CPU USAGE:  8.3\n"
     ]
    }
   ],
   "source": [
    "run_va()"
   ]
  },
  {
   "cell_type": "code",
   "execution_count": null,
   "metadata": {},
   "outputs": [],
   "source": [
    "ngomong(\"Selamat malam, Francesco. Nama saya Budi.\")"
   ]
  }
 ],
 "metadata": {
  "kernelspec": {
   "display_name": "Python 3",
   "language": "python",
   "name": "python3"
  },
  "language_info": {
   "codemirror_mode": {
    "name": "ipython",
    "version": 3
   },
   "file_extension": ".py",
   "mimetype": "text/x-python",
   "name": "python",
   "nbconvert_exporter": "python",
   "pygments_lexer": "ipython3",
   "version": "3.10.11"
  }
 },
 "nbformat": 4,
 "nbformat_minor": 2
}

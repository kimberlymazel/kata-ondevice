{
 "cells": [
  {
   "cell_type": "code",
   "execution_count": 45,
   "metadata": {},
   "outputs": [],
   "source": [
    "import speech_recognition as srec\n",
    "from gtts import gTTS\n",
    "import pyttsx3 as pyt\n",
    "import os\n",
    "\n",
    "from transformers import AutoTokenizer, AutoModelForCausalLM, pipeline, VitsModel\n",
    "import torch\n",
    "\n",
    "import requests\n",
    "import json\n",
    "\n",
    "import time\n",
    "import psutil\n",
    "\n",
    "import whisper\n",
    "import sounddevice as sd\n",
    "import numpy as np\n",
    "from IPython.display import Audio"
   ]
  },
  {
   "cell_type": "code",
   "execution_count": 3,
   "metadata": {},
   "outputs": [],
   "source": [
    "engine = pyt.init()\n",
    "voices = engine.getProperty('voices')\n",
    "engine.setProperty('voice', voices[1].id)\n",
    "\n",
    "device = \"auto\""
   ]
  },
  {
   "cell_type": "code",
   "execution_count": 4,
   "metadata": {},
   "outputs": [
    {
     "name": "stderr",
     "output_type": "stream",
     "text": [
      "c:\\Users\\kimbe\\AppData\\Local\\Programs\\Python\\Python312\\Lib\\site-packages\\huggingface_hub\\file_download.py:139: UserWarning: `huggingface_hub` cache-system uses symlinks by default to efficiently store duplicated files but your machine does not support them in C:\\Users\\kimbe\\.cache\\huggingface\\hub\\models--sail--Sailor-0.5B-Chat. Caching files will still work but in a degraded version that might require more space on your disk. This warning can be disabled by setting the `HF_HUB_DISABLE_SYMLINKS_WARNING` environment variable. For more details, see https://huggingface.co/docs/huggingface_hub/how-to-cache#limitations.\n",
      "To support symlinks on Windows, you either need to activate Developer Mode or to run Python as an administrator. In order to activate developer mode, see this article: https://docs.microsoft.com/en-us/windows/apps/get-started/enable-your-device-for-development\n",
      "  warnings.warn(message)\n",
      "Some parameters are on the meta device because they were offloaded to the disk and cpu.\n"
     ]
    },
    {
     "name": "stdout",
     "output_type": "stream",
     "text": [
      "566.1801528930664\n"
     ]
    }
   ],
   "source": [
    "# --- AZURE SAILOR 0.5B MODEL ---\n",
    "start_time = time.time()\n",
    "\n",
    "model = AutoModelForCausalLM.from_pretrained(\n",
    "    'sail/Sailor-0.5B-Chat',\n",
    "    torch_dtype=\"auto\",\n",
    "    device_map=\"auto\"\n",
    ")\n",
    "tokenizer = AutoTokenizer.from_pretrained('sail/Sailor-0.5B-Chat')\n",
    "end_time = time.time()\n",
    "load_time = end_time - start_time\n",
    "print(load_time)\n"
   ]
  },
  {
   "cell_type": "code",
   "execution_count": 16,
   "metadata": {},
   "outputs": [],
   "source": [
    "# --- LLAMA ---\n",
    "\n",
    "tokenizer = AutoTokenizer.from_pretrained(\"meta-llama/Llama-3.2-1B\")\n",
    "model = AutoModelForCausalLM.from_pretrained(\"meta-llama/Llama-3.2-1B\")"
   ]
  },
  {
   "cell_type": "code",
   "execution_count": 46,
   "metadata": {},
   "outputs": [],
   "source": [
    "# --- STT ---\n",
    "\n",
    "# def perintah():\n",
    "#     mendengar = srec.Recognizer()\n",
    "#     with srec.Microphone() as source:\n",
    "#         print('Mendengarkan......')\n",
    "#         suara = mendengar.listen(source, phrase_time_limit=5)\n",
    "#         try:\n",
    "#             print('Diterima.....')\n",
    "#             dengar = mendengar.recognize_google(suara, language='id-ID')\n",
    "#             print(dengar)\n",
    "#         except:\n",
    "#             pass\n",
    "#         return dengar\n",
    "\n",
    "whisper_model = whisper.load_model(\"small\")\n",
    "\n",
    "def perintah():\n",
    "    duration = 5\n",
    "    sample_rate = 16000  \n",
    "\n",
    "    print(\"Mendengarkan......\")\n",
    "    audio_data = sd.rec(int(duration * sample_rate), samplerate=sample_rate, channels=1, dtype='float32')\n",
    "    sd.wait()  \n",
    "    print(\"Diterima.....\")\n",
    "\n",
    "    audio_data = np.squeeze(audio_data)  \n",
    "    dengar = whisper_model.transcribe(audio_data, fp16=False, language=\"id\")\n",
    "    print(dengar[\"text\"])\n",
    "\n",
    "    return dengar[\"text\"]"
   ]
  },
  {
   "cell_type": "code",
   "execution_count": 55,
   "metadata": {},
   "outputs": [],
   "source": [
    "# --- TTS ---\n",
    "\n",
    "# def ngomong(text):\n",
    "#     voices = engine.getProperty('voices')\n",
    "\n",
    "#     for voice in voices:\n",
    "#         if \"MSTTS_V110_idID_Andika\" in voice.id:\n",
    "#             engine.setProperty('voice', voice.id)\n",
    "#             break\n",
    "\n",
    "#     # Speak the text\n",
    "#     engine.say(text)\n",
    "    \n",
    "#     # Wait until speaking is finished\n",
    "#     engine.runAndWait()\n",
    "\n",
    "mms = VitsModel.from_pretrained(\"facebook/mms-tts-ind\")\n",
    "mms_token = AutoTokenizer.from_pretrained(\"facebook/mms-tts-ind\")\n",
    "\n",
    "def ngomong(text):\n",
    "    inputs = mms_token(text, return_tensors=\"pt\")\n",
    "\n",
    "    with torch.no_grad():\n",
    "        output = mms(**inputs).waveform\n",
    "    \n",
    "    return Audio(output.squeeze().cpu().numpy(), rate=16000) # Can change rate to make it faster/slower"
   ]
  },
  {
   "cell_type": "code",
   "execution_count": 21,
   "metadata": {},
   "outputs": [],
   "source": [
    "def run_va():\n",
    "    # prompt from user\n",
    "    Layanan = perintah()\n",
    "\n",
    "    if not Layanan:\n",
    "        print(\"Tidak ada input yang terdeteksi. Silakan coba berbicara lagi.\")\n",
    "        return\n",
    "\n",
    "    # messages = [{\"role\": \"user\", \"content\": Layanan}]\n",
    "    # prompt = tokenizer.apply_chat_template(messages, tokenize=False, add_generation_prompt=True)\n",
    "\n",
    "    # outputs = pipeline(prompt, max_new_tokens=256, do_sample=True, temperature=0.7, top_k=50, top_p=0.95)\n",
    "    # print(outputs[0][\"generated_text\"])\n",
    "\n",
    "    # ngomong(Layanan)\n",
    "\n",
    "    # print(Layanan)\n",
    "\n",
    "    system_prompt= 'Jawab dalam bahasa indonesia.'\n",
    "\n",
    "    messages = [\n",
    "        {\"role\": \"question\", \"content\": Layanan}\n",
    "        ]\n",
    "\n",
    "    # text = tokenizer.apply_chat_template(\n",
    "    #     messages,\n",
    "    #     tokenize=False,\n",
    "    #     add_generation_prompt=True\n",
    "    # )\n",
    "\n",
    "    model_inputs = tokenizer(Layanan, return_tensors=\"pt\") \n",
    "\n",
    "    start_time = time.time()\n",
    "    memory_before = psutil.virtual_memory().used\n",
    "\n",
    "    generated_ids = model.generate(\n",
    "        model_inputs.input_ids,\n",
    "        max_new_tokens=512, \n",
    "        temperature=0.7,\n",
    "        top_p=0.9\n",
    "\n",
    "    )\n",
    "\n",
    "    generated_ids = [\n",
    "        output_ids[len(input_ids):] for input_ids, output_ids in zip(model_inputs.input_ids, generated_ids)\n",
    "    ]\n",
    "    response = tokenizer.batch_decode(generated_ids, skip_special_tokens=True)[0]\n",
    "\n",
    "    end_time = time.time()\n",
    "    memory_after = psutil.virtual_memory().used\n",
    "\n",
    "    inference_time = end_time - start_time\n",
    "    memory_used = memory_after - memory_before\n",
    "    cpu_usage = psutil.cpu_percent(interval=1)\n",
    "    \n",
    "    print(response)\n",
    "    print(\"INFERENCE TIME: \", inference_time)\n",
    "    print(\"MEMORY USAGE: \", memory_used)\n",
    "    print(\"CPU USAGE: \", cpu_usage)\n",
    "    ngomong(response)"
   ]
  },
  {
   "cell_type": "code",
   "execution_count": 56,
   "metadata": {},
   "outputs": [
    {
     "name": "stdout",
     "output_type": "stream",
     "text": [
      "Mendengarkan......\n",
      "Diterima.....\n",
      " siapa jokowi dodoh?\n",
      " klo dia jokowi noh, berarti dia jokowi 10 tahun yang lalu. Karena sejak saat itu, Joko Widodo memilih memakai pakaian seragam sekolah dan juga memakai topi tradisional orang Betawi di mana ia berasal.\n",
      "\n",
      "Begitupun dengan Soerjo, meskipun ia terlahir sebagai warga negara Indonesia namun ia mengaku tidak pernah melihat Presiden RI pertama, Mohammad Hatta (mantan Presiden Indonesia) atau Soekarno (mantan Presiden Indonesia) memakai topi asli orang Betawi. Dan hanya kali ini, Soerjo mendapatkan kesempatan untuk berfoto bersama Soerjowiyono yang merupakan mantan siswi SMA Betawi yang telah menjadi selebriti nasional. Sebab, setiap ada pembukaan Asian Games 2018, akan ditampilkan foto Soerjo yang membawa topi tradisional orang Betawi. Bahkan Soerjo juga sempat mengabadikan momen itu sambil tersenyum simpul.\n",
      "\n",
      "Kedua orang tua Soerjo meninggal pada tahun 2009. Ketika itu, Soerjo sangat sedih karena sudah menyaksikan sang ayah meninggal dunia. Namun hal itu tidak membuatnya menyerah begitu saja. Ia kemudian menyibukkan diri agar anaknya bisa lebih kuat dan bangkit dari masa depan yang suram. Dari situ, Soerjo mulai mendampingi Suryo Tjiawijaya selama kurun waktu beberapa bulan hingga satu tahun lamanya. Dengan gaya bicara yang keras dan tegas, Soerjo ingin membantu Suryo agar bisa bangkit dari keterpurukan akibat kehilangan keluarganya yang tragis. \n",
      "\n",
      "Mendengar kabar itu, Suryo pun menerima tuntutan itu dan kini mereka telah hidup bahagia bersama. Meskipun Soerjo bukanlah orang Betawi asli, namun ia memiliki hati yang hangat dan senyum yang lebar. Seperti kata pepatah, \"Jikalau kamu ingin tahu siapa sebenarnya Joko Widodo, lihatlah wajahnya ketika dia masih kecil\". Jadi, bagi kalian yang masih\n",
      "INFERENCE TIME:  590.7851839065552\n",
      "MEMORY USAGE:  44429312\n",
      "CPU USAGE:  3.8\n"
     ]
    }
   ],
   "source": [
    "run_va()"
   ]
  }
 ],
 "metadata": {
  "kernelspec": {
   "display_name": "Python 3",
   "language": "python",
   "name": "python3"
  },
  "language_info": {
   "codemirror_mode": {
    "name": "ipython",
    "version": 3
   },
   "file_extension": ".py",
   "mimetype": "text/x-python",
   "name": "python",
   "nbconvert_exporter": "python",
   "pygments_lexer": "ipython3",
   "version": "3.12.2"
  }
 },
 "nbformat": 4,
 "nbformat_minor": 2
}
